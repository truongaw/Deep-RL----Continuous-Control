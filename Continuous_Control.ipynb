{
 "cells": [
  {
   "cell_type": "markdown",
   "metadata": {},
   "source": [
    "# Continuous Control\n",
    "\n",
    "---\n",
    "\n",
    "You are welcome to use this coding environment to train your agent for the project.  Follow the instructions below to get started!\n",
    "\n",
    "### 1. Start the Environment\n",
    "\n",
    "Run the next code cell to install a few packages.  This line will take a few minutes to run!"
   ]
  },
  {
   "cell_type": "code",
   "execution_count": 1,
   "metadata": {},
   "outputs": [
    {
     "name": "stdout",
     "output_type": "stream",
     "text": [
      "\u001b[31mtensorflow 1.7.1 has requirement numpy>=1.13.3, but you'll have numpy 1.12.1 which is incompatible.\u001b[0m\r\n",
      "\u001b[31mipython 6.5.0 has requirement prompt-toolkit<2.0.0,>=1.0.15, but you'll have prompt-toolkit 3.0.5 which is incompatible.\u001b[0m\r\n"
     ]
    }
   ],
   "source": [
    "!pip -q install ./python"
   ]
  },
  {
   "cell_type": "markdown",
   "metadata": {},
   "source": [
    "The environments corresponding to both versions of the environment are already saved in the Workspace and can be accessed at the file paths provided below.  \n",
    "\n",
    "Please select one of the two options below for loading the environment."
   ]
  },
  {
   "cell_type": "code",
   "execution_count": 2,
   "metadata": {},
   "outputs": [
    {
     "name": "stderr",
     "output_type": "stream",
     "text": [
      "INFO:unityagents:\n",
      "'Academy' started successfully!\n",
      "Unity Academy name: Academy\n",
      "        Number of Brains: 1\n",
      "        Number of External Brains : 1\n",
      "        Lesson number : 0\n",
      "        Reset Parameters :\n",
      "\t\tgoal_speed -> 1.0\n",
      "\t\tgoal_size -> 5.0\n",
      "Unity brain name: ReacherBrain\n",
      "        Number of Visual Observations (per agent): 0\n",
      "        Vector Observation space type: continuous\n",
      "        Vector Observation space size (per agent): 33\n",
      "        Number of stacked Vector Observation: 1\n",
      "        Vector Action space type: continuous\n",
      "        Vector Action space size (per agent): 4\n",
      "        Vector Action descriptions: , , , \n"
     ]
    }
   ],
   "source": [
    "from collections import deque\n",
    "import numpy as np\n",
    "import random\n",
    "import time\n",
    "import torch\n",
    "from unityagents import UnityEnvironment\n",
    "from ddpg_agent import Agent\n",
    "import matplotlib.pyplot as plt\n",
    "\n",
    "env = UnityEnvironment(file_name='/data/Reacher_Linux_NoVis/Reacher.x86_64')\n",
    "%matplotlib inline"
   ]
  },
  {
   "cell_type": "markdown",
   "metadata": {},
   "source": [
    "Environments contain **_brains_** which are responsible for deciding the actions of their associated agents. Here we check for the first brain available, and set it as the default brain we will be controlling from Python."
   ]
  },
  {
   "cell_type": "code",
   "execution_count": 3,
   "metadata": {},
   "outputs": [],
   "source": [
    "# get the default brain\n",
    "brain_name = env.brain_names[0]\n",
    "brain = env.brains[brain_name]"
   ]
  },
  {
   "cell_type": "markdown",
   "metadata": {},
   "source": [
    "### 3. Take Random Actions in the Environment\n",
    "\n",
    "In the next code cell, you will learn how to use the Python API to control the agent and receive feedback from the environment.\n",
    "\n",
    "Note that **in this coding environment, you will not be able to watch the agents while they are training**, and you should set `train_mode=True` to restart the environment."
   ]
  },
  {
   "cell_type": "code",
   "execution_count": 5,
   "metadata": {},
   "outputs": [
    {
     "name": "stdout",
     "output_type": "stream",
     "text": [
      "Total score (averaged over agents) this episode: 0.17049999618902803\n"
     ]
    }
   ],
   "source": [
    "env_info = env.reset(train_mode=True)[brain_name]     # reset the environment \n",
    "num_agents = len(env_info.agents)\n",
    "action_size = brain.vector_action_space_size\n",
    "states = env_info.vector_observations\n",
    "state_size = states.shape[1]\n",
    "\n",
    "states = env_info.vector_observations                  # get the current state (for each agent)\n",
    "scores = np.zeros(num_agents)                          # initialize the score (for each agent)\n",
    "while True:\n",
    "    actions = np.random.randn(num_agents, action_size) # select an action (for each agent)\n",
    "    actions = np.clip(actions, -1, 1)                  # all actions between -1 and 1\n",
    "    env_info = env.step(actions)[brain_name]           # send all actions to tne environment\n",
    "    next_states = env_info.vector_observations         # get next state (for each agent)\n",
    "    rewards = env_info.rewards                         # get reward (for each agent)\n",
    "    dones = env_info.local_done                        # see if episode finished\n",
    "    scores += env_info.rewards                         # update the score (for each agent)\n",
    "    states = next_states                               # roll over states to next time step\n",
    "    if np.any(dones):                                  # exit loop if episode finished\n",
    "        break\n",
    "print('Total score (averaged over agents) this episode: {}'.format(np.mean(scores)))"
   ]
  },
  {
   "cell_type": "markdown",
   "metadata": {},
   "source": [
    "DDPG Function"
   ]
  },
  {
   "cell_type": "code",
   "execution_count": 6,
   "metadata": {},
   "outputs": [],
   "source": [
    "# DDPG function\n",
    "\n",
    "def ddpg(n_episodes=500, max_t=1000, solved_score=30.0, consec_episodes=100, print_every=1, train_mode=True,\n",
    "         actor_path='checkpoint_actor.pth', critic_path='checkpoint_critic.pth'):\n",
    "    \"\"\"Deep Deterministic Policy Gradient (DDPG)\n",
    "    \n",
    "    Params\n",
    "    ======\n",
    "        n_episodes (int)      : maximum number of training episodes\n",
    "        max_t (int)           : maximum number of timesteps per episode\n",
    "        train_mode (bool)     : if 'True' set environment to training mode\n",
    "        solved_score (float)  : min avg score over consecutive episodes\n",
    "        consec_episodes (int) : number of consecutive episodes used to calculate score\n",
    "        print_every (int)     : interval to display results\n",
    "        actor_path (str)      : directory to store actor network weights\n",
    "        critic_path (str)     : directory to store critic network weights\n",
    "\n",
    "    \"\"\"\n",
    "    mean_scores = []                               # list of mean scores from each episode\n",
    "    min_scores = []                                # list of lowest scores from each episode\n",
    "    max_scores = []                                # list of highest scores from each episode\n",
    "    best_score = -np.inf\n",
    "    scores_window = deque(maxlen=consec_episodes)  # mean scores from most recent episodes\n",
    "    moving_avgs = []                               # list of moving averages\n",
    "    \n",
    "    for i_episode in range(1, n_episodes+1):\n",
    "        env_info = env.reset(train_mode=train_mode)[brain_name] # reset environment\n",
    "        states = env_info.vector_observations                   # get current state for each agent      \n",
    "        scores = np.zeros(num_agents)                           # initialize score for each agent\n",
    "        agent.reset()\n",
    "        start_time = time.time()\n",
    "        for t in range(max_t):\n",
    "            actions = agent.act(states, add_noise=True)         # select an action\n",
    "            env_info = env.step(actions)[brain_name]            # send actions to environment\n",
    "            next_states = env_info.vector_observations          # get next state\n",
    "            rewards = env_info.rewards                          # get reward\n",
    "            dones = env_info.local_done                         # see if episode has finished\n",
    "            # save experience to replay buffer, perform learning step at defined interval\n",
    "            for state, action, reward, next_state, done in zip(states, actions, rewards, next_states, dones):\n",
    "                agent.step(state, action, reward, next_state, done, t)             \n",
    "            states = next_states\n",
    "            scores += rewards        \n",
    "            if np.any(dones):                                   # exit loop when episode ends\n",
    "                break\n",
    "\n",
    "        duration = time.time() - start_time\n",
    "        min_scores.append(np.min(scores))             # save lowest score for a single agent\n",
    "        max_scores.append(np.max(scores))             # save highest score for a single agent        \n",
    "        mean_scores.append(np.mean(scores))           # save mean score for the episode\n",
    "        scores_window.append(mean_scores[-1])         # save mean score to window\n",
    "        moving_avgs.append(np.mean(scores_window))    # save moving average\n",
    "                \n",
    "        if i_episode % print_every == 0:\n",
    "            print('\\rEpisode {} ({} sec)  -- \\tMin: {:.1f}\\tMax: {:.1f}\\tMean: {:.1f}\\tMov. Avg: {:.1f}'.format(\\\n",
    "                  i_episode, round(duration), min_scores[-1], max_scores[-1], mean_scores[-1], moving_avgs[-1]))\n",
    "        \n",
    "        if train_mode and mean_scores[-1] > best_score:\n",
    "            torch.save(agent.actor_local.state_dict(), actor_path)\n",
    "            torch.save(agent.critic_local.state_dict(), critic_path)\n",
    "                  \n",
    "        if moving_avgs[-1] >= solved_score and i_episode >= consec_episodes:\n",
    "            print('\\nEnvironment SOLVED in {} episodes!\\tMoving Average ={:.1f} over last {} episodes'.format(\\\n",
    "                                    i_episode-consec_episodes, moving_avgs[-1], consec_episodes))            \n",
    "            if train_mode:\n",
    "                torch.save(agent.actor_local.state_dict(), actor_path)\n",
    "                torch.save(agent.critic_local.state_dict(), critic_path)  \n",
    "            break\n",
    "            \n",
    "    return mean_scores, moving_avgs\n"
   ]
  },
  {
   "cell_type": "code",
   "execution_count": null,
   "metadata": {},
   "outputs": [],
   "source": [
    "#load the checkpoint weights\n",
    "agent.actor_local.load_state_dict(torch.load('checkpoint_actor.pth'))\n",
    "agent.critic_local.load_state_dict(torch.load('checkpoint_critic.pth'))"
   ]
  },
  {
   "cell_type": "code",
   "execution_count": 7,
   "metadata": {},
   "outputs": [
    {
     "name": "stdout",
     "output_type": "stream",
     "text": [
      "Episode 1 (116 sec)  -- \tMin: 0.1\tMax: 1.7\tMean: 0.9\tMov. Avg: 0.9\n",
      "Episode 2 (122 sec)  -- \tMin: 0.3\tMax: 10.0\tMean: 2.2\tMov. Avg: 1.5\n",
      "Episode 3 (123 sec)  -- \tMin: 1.2\tMax: 4.6\tMean: 2.4\tMov. Avg: 1.8\n",
      "Episode 4 (124 sec)  -- \tMin: 1.8\tMax: 6.8\tMean: 3.7\tMov. Avg: 2.3\n",
      "Episode 5 (126 sec)  -- \tMin: 1.5\tMax: 7.3\tMean: 3.3\tMov. Avg: 2.5\n",
      "Episode 6 (126 sec)  -- \tMin: 1.9\tMax: 10.7\tMean: 4.3\tMov. Avg: 2.8\n",
      "Episode 7 (128 sec)  -- \tMin: 0.2\tMax: 12.0\tMean: 4.4\tMov. Avg: 3.0\n",
      "Episode 8 (130 sec)  -- \tMin: 1.2\tMax: 6.3\tMean: 4.1\tMov. Avg: 3.2\n",
      "Episode 9 (130 sec)  -- \tMin: 0.8\tMax: 6.3\tMean: 3.3\tMov. Avg: 3.2\n",
      "Episode 10 (132 sec)  -- \tMin: 1.3\tMax: 10.1\tMean: 4.5\tMov. Avg: 3.3\n",
      "Episode 11 (131 sec)  -- \tMin: 0.9\tMax: 7.7\tMean: 4.6\tMov. Avg: 3.4\n",
      "Episode 12 (133 sec)  -- \tMin: 1.1\tMax: 8.1\tMean: 4.4\tMov. Avg: 3.5\n",
      "Episode 13 (135 sec)  -- \tMin: 2.3\tMax: 11.2\tMean: 6.1\tMov. Avg: 3.7\n",
      "Episode 14 (133 sec)  -- \tMin: 2.6\tMax: 12.8\tMean: 6.4\tMov. Avg: 3.9\n",
      "Episode 15 (132 sec)  -- \tMin: 3.4\tMax: 15.7\tMean: 7.0\tMov. Avg: 4.1\n",
      "Episode 16 (135 sec)  -- \tMin: 3.1\tMax: 9.1\tMean: 6.1\tMov. Avg: 4.2\n",
      "Episode 17 (137 sec)  -- \tMin: 4.9\tMax: 13.6\tMean: 8.1\tMov. Avg: 4.5\n",
      "Episode 18 (139 sec)  -- \tMin: 3.8\tMax: 11.9\tMean: 7.9\tMov. Avg: 4.6\n",
      "Episode 19 (142 sec)  -- \tMin: 6.2\tMax: 13.8\tMean: 9.3\tMov. Avg: 4.9\n",
      "Episode 20 (144 sec)  -- \tMin: 6.1\tMax: 13.3\tMean: 8.7\tMov. Avg: 5.1\n",
      "Episode 21 (146 sec)  -- \tMin: 4.4\tMax: 11.9\tMean: 9.2\tMov. Avg: 5.3\n",
      "Episode 22 (149 sec)  -- \tMin: 7.0\tMax: 17.4\tMean: 11.9\tMov. Avg: 5.6\n",
      "Episode 23 (152 sec)  -- \tMin: 5.2\tMax: 16.9\tMean: 10.9\tMov. Avg: 5.8\n",
      "Episode 24 (154 sec)  -- \tMin: 7.8\tMax: 14.1\tMean: 11.0\tMov. Avg: 6.0\n",
      "Episode 25 (156 sec)  -- \tMin: 8.9\tMax: 15.6\tMean: 11.6\tMov. Avg: 6.3\n",
      "Episode 26 (158 sec)  -- \tMin: 7.3\tMax: 18.1\tMean: 12.9\tMov. Avg: 6.5\n",
      "Episode 27 (162 sec)  -- \tMin: 6.5\tMax: 16.3\tMean: 11.5\tMov. Avg: 6.7\n",
      "Episode 28 (166 sec)  -- \tMin: 8.3\tMax: 23.6\tMean: 13.9\tMov. Avg: 6.9\n",
      "Episode 29 (166 sec)  -- \tMin: 8.9\tMax: 21.6\tMean: 12.9\tMov. Avg: 7.2\n",
      "Episode 30 (169 sec)  -- \tMin: 10.2\tMax: 17.7\tMean: 13.0\tMov. Avg: 7.3\n",
      "Episode 31 (172 sec)  -- \tMin: 7.3\tMax: 20.2\tMean: 14.6\tMov. Avg: 7.6\n",
      "Episode 32 (173 sec)  -- \tMin: 9.1\tMax: 22.4\tMean: 15.9\tMov. Avg: 7.8\n",
      "Episode 33 (176 sec)  -- \tMin: 8.7\tMax: 28.1\tMean: 15.2\tMov. Avg: 8.1\n",
      "Episode 34 (179 sec)  -- \tMin: 6.6\tMax: 24.7\tMean: 17.4\tMov. Avg: 8.3\n",
      "Episode 35 (182 sec)  -- \tMin: 12.5\tMax: 24.2\tMean: 18.5\tMov. Avg: 8.6\n",
      "Episode 36 (186 sec)  -- \tMin: 11.2\tMax: 26.0\tMean: 18.2\tMov. Avg: 8.9\n",
      "Episode 37 (186 sec)  -- \tMin: 10.1\tMax: 26.2\tMean: 19.3\tMov. Avg: 9.2\n",
      "Episode 38 (189 sec)  -- \tMin: 10.2\tMax: 30.1\tMean: 20.7\tMov. Avg: 9.5\n",
      "Episode 39 (191 sec)  -- \tMin: 16.3\tMax: 27.7\tMean: 20.5\tMov. Avg: 9.8\n",
      "Episode 40 (194 sec)  -- \tMin: 12.3\tMax: 27.2\tMean: 21.5\tMov. Avg: 10.1\n",
      "Episode 41 (197 sec)  -- \tMin: 13.3\tMax: 34.7\tMean: 21.5\tMov. Avg: 10.3\n",
      "Episode 42 (200 sec)  -- \tMin: 15.6\tMax: 27.7\tMean: 23.1\tMov. Avg: 10.6\n",
      "Episode 43 (202 sec)  -- \tMin: 20.4\tMax: 30.8\tMean: 24.8\tMov. Avg: 11.0\n",
      "Episode 44 (205 sec)  -- \tMin: 16.1\tMax: 34.9\tMean: 24.9\tMov. Avg: 11.3\n",
      "Episode 45 (207 sec)  -- \tMin: 21.1\tMax: 31.0\tMean: 25.2\tMov. Avg: 11.6\n",
      "Episode 46 (210 sec)  -- \tMin: 20.1\tMax: 31.7\tMean: 25.7\tMov. Avg: 11.9\n",
      "Episode 47 (212 sec)  -- \tMin: 21.1\tMax: 35.9\tMean: 27.3\tMov. Avg: 12.2\n",
      "Episode 48 (215 sec)  -- \tMin: 18.9\tMax: 30.8\tMean: 27.1\tMov. Avg: 12.5\n",
      "Episode 49 (218 sec)  -- \tMin: 20.2\tMax: 35.8\tMean: 28.5\tMov. Avg: 12.9\n",
      "Episode 50 (221 sec)  -- \tMin: 15.3\tMax: 33.9\tMean: 28.2\tMov. Avg: 13.2\n",
      "Episode 51 (222 sec)  -- \tMin: 18.9\tMax: 37.0\tMean: 29.7\tMov. Avg: 13.5\n",
      "Episode 52 (223 sec)  -- \tMin: 20.6\tMax: 36.2\tMean: 28.3\tMov. Avg: 13.8\n",
      "Episode 53 (223 sec)  -- \tMin: 27.5\tMax: 34.2\tMean: 30.8\tMov. Avg: 14.1\n",
      "Episode 54 (223 sec)  -- \tMin: 27.4\tMax: 36.1\tMean: 30.6\tMov. Avg: 14.4\n",
      "Episode 55 (224 sec)  -- \tMin: 25.0\tMax: 34.9\tMean: 30.9\tMov. Avg: 14.7\n",
      "Episode 56 (223 sec)  -- \tMin: 27.3\tMax: 38.8\tMean: 31.7\tMov. Avg: 15.0\n",
      "Episode 57 (224 sec)  -- \tMin: 23.9\tMax: 39.2\tMean: 32.0\tMov. Avg: 15.3\n",
      "Episode 58 (224 sec)  -- \tMin: 27.8\tMax: 35.4\tMean: 32.2\tMov. Avg: 15.6\n",
      "Episode 59 (224 sec)  -- \tMin: 27.0\tMax: 37.5\tMean: 32.7\tMov. Avg: 15.9\n",
      "Episode 60 (223 sec)  -- \tMin: 30.4\tMax: 37.4\tMean: 33.6\tMov. Avg: 16.2\n",
      "Episode 61 (223 sec)  -- \tMin: 31.7\tMax: 37.2\tMean: 34.3\tMov. Avg: 16.5\n",
      "Episode 62 (224 sec)  -- \tMin: 27.9\tMax: 37.0\tMean: 34.2\tMov. Avg: 16.8\n",
      "Episode 63 (223 sec)  -- \tMin: 30.6\tMax: 37.6\tMean: 34.3\tMov. Avg: 17.0\n",
      "Episode 64 (223 sec)  -- \tMin: 32.5\tMax: 37.9\tMean: 35.3\tMov. Avg: 17.3\n",
      "Episode 65 (224 sec)  -- \tMin: 30.2\tMax: 38.3\tMean: 34.9\tMov. Avg: 17.6\n",
      "Episode 66 (224 sec)  -- \tMin: 32.2\tMax: 38.9\tMean: 36.0\tMov. Avg: 17.9\n",
      "Episode 67 (223 sec)  -- \tMin: 32.6\tMax: 39.6\tMean: 36.4\tMov. Avg: 18.2\n",
      "Episode 68 (223 sec)  -- \tMin: 30.1\tMax: 39.2\tMean: 36.2\tMov. Avg: 18.4\n",
      "Episode 69 (223 sec)  -- \tMin: 29.7\tMax: 39.5\tMean: 37.2\tMov. Avg: 18.7\n",
      "Episode 70 (223 sec)  -- \tMin: 30.2\tMax: 39.5\tMean: 36.5\tMov. Avg: 19.0\n",
      "Episode 71 (227 sec)  -- \tMin: 33.8\tMax: 39.4\tMean: 37.3\tMov. Avg: 19.2\n",
      "Episode 72 (227 sec)  -- \tMin: 33.5\tMax: 39.5\tMean: 37.1\tMov. Avg: 19.5\n",
      "Episode 73 (227 sec)  -- \tMin: 32.0\tMax: 39.5\tMean: 37.8\tMov. Avg: 19.7\n",
      "Episode 74 (231 sec)  -- \tMin: 33.6\tMax: 39.3\tMean: 37.4\tMov. Avg: 19.9\n",
      "Episode 75 (230 sec)  -- \tMin: 33.2\tMax: 39.5\tMean: 37.5\tMov. Avg: 20.2\n",
      "Episode 76 (230 sec)  -- \tMin: 35.9\tMax: 39.5\tMean: 38.0\tMov. Avg: 20.4\n",
      "Episode 77 (229 sec)  -- \tMin: 35.8\tMax: 39.6\tMean: 38.3\tMov. Avg: 20.6\n",
      "Episode 78 (229 sec)  -- \tMin: 36.9\tMax: 39.5\tMean: 38.8\tMov. Avg: 20.9\n",
      "Episode 79 (230 sec)  -- \tMin: 32.0\tMax: 39.6\tMean: 38.3\tMov. Avg: 21.1\n",
      "Episode 80 (230 sec)  -- \tMin: 32.3\tMax: 39.6\tMean: 37.7\tMov. Avg: 21.3\n",
      "Episode 81 (229 sec)  -- \tMin: 34.4\tMax: 39.4\tMean: 37.6\tMov. Avg: 21.5\n",
      "Episode 82 (229 sec)  -- \tMin: 34.9\tMax: 39.6\tMean: 38.6\tMov. Avg: 21.7\n",
      "Episode 83 (229 sec)  -- \tMin: 37.8\tMax: 39.6\tMean: 39.2\tMov. Avg: 21.9\n",
      "Episode 84 (229 sec)  -- \tMin: 36.0\tMax: 39.6\tMean: 38.7\tMov. Avg: 22.1\n",
      "Episode 85 (229 sec)  -- \tMin: 33.8\tMax: 39.5\tMean: 38.3\tMov. Avg: 22.3\n",
      "Episode 86 (230 sec)  -- \tMin: 29.2\tMax: 39.6\tMean: 38.0\tMov. Avg: 22.5\n",
      "Episode 87 (229 sec)  -- \tMin: 35.7\tMax: 39.6\tMean: 39.1\tMov. Avg: 22.7\n",
      "Episode 88 (229 sec)  -- \tMin: 36.2\tMax: 39.6\tMean: 38.7\tMov. Avg: 22.9\n",
      "Episode 89 (227 sec)  -- \tMin: 34.7\tMax: 39.6\tMean: 38.5\tMov. Avg: 23.1\n",
      "Episode 90 (229 sec)  -- \tMin: 36.7\tMax: 39.6\tMean: 38.9\tMov. Avg: 23.2\n",
      "Episode 91 (230 sec)  -- \tMin: 33.2\tMax: 39.4\tMean: 38.1\tMov. Avg: 23.4\n",
      "Episode 92 (230 sec)  -- \tMin: 37.0\tMax: 39.6\tMean: 38.8\tMov. Avg: 23.6\n",
      "Episode 93 (229 sec)  -- \tMin: 36.8\tMax: 39.6\tMean: 38.8\tMov. Avg: 23.7\n",
      "Episode 94 (230 sec)  -- \tMin: 36.6\tMax: 39.6\tMean: 38.8\tMov. Avg: 23.9\n",
      "Episode 95 (230 sec)  -- \tMin: 36.4\tMax: 39.6\tMean: 38.7\tMov. Avg: 24.0\n",
      "Episode 96 (228 sec)  -- \tMin: 37.0\tMax: 39.6\tMean: 38.9\tMov. Avg: 24.2\n",
      "Episode 97 (228 sec)  -- \tMin: 36.2\tMax: 39.7\tMean: 38.8\tMov. Avg: 24.3\n",
      "Episode 98 (229 sec)  -- \tMin: 37.4\tMax: 39.6\tMean: 38.9\tMov. Avg: 24.5\n",
      "Episode 99 (230 sec)  -- \tMin: 36.2\tMax: 39.5\tMean: 38.7\tMov. Avg: 24.6\n",
      "Episode 100 (229 sec)  -- \tMin: 35.9\tMax: 39.5\tMean: 38.7\tMov. Avg: 24.8\n",
      "Episode 101 (229 sec)  -- \tMin: 36.9\tMax: 39.5\tMean: 38.6\tMov. Avg: 25.2\n",
      "Episode 102 (230 sec)  -- \tMin: 32.5\tMax: 39.5\tMean: 38.3\tMov. Avg: 25.5\n",
      "Episode 103 (231 sec)  -- \tMin: 36.2\tMax: 39.7\tMean: 38.3\tMov. Avg: 25.9\n",
      "Episode 104 (230 sec)  -- \tMin: 34.5\tMax: 38.9\tMean: 37.6\tMov. Avg: 26.2\n",
      "Episode 105 (231 sec)  -- \tMin: 36.3\tMax: 39.4\tMean: 38.1\tMov. Avg: 26.6\n",
      "Episode 106 (230 sec)  -- \tMin: 36.8\tMax: 39.6\tMean: 38.9\tMov. Avg: 26.9\n",
      "Episode 107 (230 sec)  -- \tMin: 37.8\tMax: 39.6\tMean: 39.1\tMov. Avg: 27.3\n",
      "Episode 108 (229 sec)  -- \tMin: 34.0\tMax: 39.6\tMean: 38.8\tMov. Avg: 27.6\n",
      "Episode 109 (230 sec)  -- \tMin: 33.1\tMax: 39.6\tMean: 38.3\tMov. Avg: 28.0\n",
      "Episode 110 (230 sec)  -- \tMin: 37.6\tMax: 39.6\tMean: 38.9\tMov. Avg: 28.3\n",
      "Episode 111 (230 sec)  -- \tMin: 37.0\tMax: 39.7\tMean: 38.9\tMov. Avg: 28.6\n",
      "Episode 112 (230 sec)  -- \tMin: 37.0\tMax: 39.5\tMean: 38.4\tMov. Avg: 29.0\n",
      "Episode 113 (229 sec)  -- \tMin: 35.4\tMax: 39.5\tMean: 37.9\tMov. Avg: 29.3\n",
      "Episode 114 (229 sec)  -- \tMin: 35.4\tMax: 39.6\tMean: 37.7\tMov. Avg: 29.6\n",
      "Episode 115 (230 sec)  -- \tMin: 31.1\tMax: 38.9\tMean: 36.7\tMov. Avg: 29.9\n",
      "Episode 116 (230 sec)  -- \tMin: 29.9\tMax: 39.1\tMean: 35.4\tMov. Avg: 30.2\n",
      "\n",
      "Environment SOLVED in 16 episodes!\tMoving Average =30.2 over last 100 episodes\n"
     ]
    }
   ],
   "source": [
    "# run the training loop\n",
    "agent = Agent(state_size=state_size, action_size=action_size, random_seed=1)\n",
    "scores, avgs = ddpg()"
   ]
  },
  {
   "cell_type": "code",
   "execution_count": 8,
   "metadata": {},
   "outputs": [
    {
     "data": {
      "image/png": "[encoded data removed]",
      "text/plain": [
       "<matplotlib.figure.Figure at 0x7f711aaa1320>"
      ]
     },
     "metadata": {
      "needs_background": "light"
     },
     "output_type": "display_data"
    }
   ],
   "source": [
    "# plot the scores\n",
    "fig = plt.figure()\n",
    "ax = fig.add_subplot(111)\n",
    "plt.plot(np.arange(len(scores)), scores, label='DDPG')\n",
    "plt.plot(np.arange(len(scores)), avgs, c='r', label='moving avg')\n",
    "plt.ylabel('Score')\n",
    "plt.xlabel('Episode #')\n",
    "plt.legend(loc='upper left');\n",
    "plt.show()"
   ]
  },
  {
   "cell_type": "code",
   "execution_count": null,
   "metadata": {},
   "outputs": [],
   "source": []
  }
 ],
 "metadata": {
  "kernelspec": {
   "display_name": "Python 3",
   "language": "python",
   "name": "python3"
  },
  "language_info": {
   "codemirror_mode": {
    "name": "ipython",
    "version": 3
   },
   "file_extension": ".py",
   "mimetype": "text/x-python",
   "name": "python",
   "nbconvert_exporter": "python",
   "pygments_lexer": "ipython3",
   "version": "3.6.3"
  }
 },
 "nbformat": 4,
 "nbformat_minor": 2
}
